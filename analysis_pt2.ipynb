{
 "cells": [
  {
   "cell_type": "code",
   "execution_count": 60,
   "metadata": {},
   "outputs": [],
   "source": [
    "import csv\n",
    "import matplotlib.pyplot as plt\n",
    "from tabulate import tabulate"
   ]
  },
  {
   "cell_type": "code",
   "execution_count": 61,
   "metadata": {},
   "outputs": [],
   "source": [
    "# Reading the file row by row\n",
    "# Saving each row in a different list\n",
    "# 'folder' is a list of lists\n",
    "def readCSV(filePath):\n",
    "    \n",
    "    folder = []\n",
    "    with open(filePath, newline = '') as file:\n",
    "        reader = csv.reader(file)\n",
    "        for row in reader:\n",
    "            dataset = [float(value) for value in row if value != '']\n",
    "            folder.append(dataset)\n",
    "    return folder"
   ]
  },
  {
   "cell_type": "code",
   "execution_count": 62,
   "metadata": {},
   "outputs": [],
   "source": [
    "# File's path\n",
    "small_filePath = \"results/small_4_resources.csv\" \n",
    "\n",
    "# Reading file\n",
    "small_dataset1 = readCSV(small_filePath)"
   ]
  },
  {
   "cell_type": "code",
   "execution_count": 63,
   "metadata": {},
   "outputs": [
    {
     "name": "stdout",
     "output_type": "stream",
     "text": [
      "+-----+----------+----------------+-------------+\n",
      "|   m |   blocks |   similar_docs |   total_exe |\n",
      "+=====+==========+================+=============+\n",
      "|  64 |        4 |            135 |   301.959   |\n",
      "+-----+----------+----------------+-------------+\n",
      "|  64 |        8 |            132 |    13.6419  |\n",
      "+-----+----------+----------------+-------------+\n",
      "|  64 |       16 |            132 |     3.64316 |\n",
      "+-----+----------+----------------+-------------+\n",
      "|  64 |       32 |            119 |     4.69728 |\n",
      "+-----+----------+----------------+-------------+\n",
      "| 128 |        4 |            119 |   475.486   |\n",
      "+-----+----------+----------------+-------------+\n",
      "| 128 |        8 |            121 |    26.9089  |\n",
      "+-----+----------+----------------+-------------+\n",
      "| 128 |       16 |            116 |     4.7221  |\n",
      "+-----+----------+----------------+-------------+\n",
      "| 128 |       32 |            111 |     4.61967 |\n",
      "+-----+----------+----------------+-------------+\n",
      "| 256 |        4 |            127 |   794.488   |\n",
      "+-----+----------+----------------+-------------+\n",
      "| 256 |        8 |            105 |    72.7951  |\n",
      "+-----+----------+----------------+-------------+\n",
      "| 256 |       16 |            106 |     7.23101 |\n",
      "+-----+----------+----------------+-------------+\n",
      "| 256 |       32 |            128 |     7.60397 |\n",
      "+-----+----------+----------------+-------------+\n"
     ]
    }
   ],
   "source": [
    "colNames = ['m', 'blocks', 'similar_docs', 'total_exe']\n",
    "print(tabulate(small_dataset1, headers = colNames, tablefmt = \"grid\"))"
   ]
  },
  {
   "cell_type": "code",
   "execution_count": 64,
   "metadata": {},
   "outputs": [],
   "source": [
    "# File's path\n",
    "small_filePath = \"results/small_8_resources.csv\" \n",
    "\n",
    "# Reading file\n",
    "small_dataset2 = readCSV(small_filePath)"
   ]
  },
  {
   "cell_type": "code",
   "execution_count": 65,
   "metadata": {},
   "outputs": [
    {
     "name": "stdout",
     "output_type": "stream",
     "text": [
      "+-----+----------+----------------+-------------+\n",
      "|   m |   blocks |   similar_docs |   total_exe |\n",
      "+=====+==========+================+=============+\n",
      "|  64 |        4 |            151 |   309.782   |\n",
      "+-----+----------+----------------+-------------+\n",
      "|  64 |        8 |            178 |    13.4914  |\n",
      "+-----+----------+----------------+-------------+\n",
      "|  64 |       16 |            152 |     3.73769 |\n",
      "+-----+----------+----------------+-------------+\n",
      "|  64 |       32 |            105 |     3.64644 |\n",
      "+-----+----------+----------------+-------------+\n",
      "| 128 |        4 |            117 |   491.778   |\n",
      "+-----+----------+----------------+-------------+\n",
      "| 128 |        8 |            114 |    27.352   |\n",
      "+-----+----------+----------------+-------------+\n",
      "| 128 |       16 |            124 |     4.9396  |\n",
      "+-----+----------+----------------+-------------+\n",
      "| 128 |       32 |            114 |     4.63238 |\n",
      "+-----+----------+----------------+-------------+\n",
      "| 256 |        4 |            137 |   784.897   |\n",
      "+-----+----------+----------------+-------------+\n",
      "| 256 |        8 |            129 |    73.9764  |\n",
      "+-----+----------+----------------+-------------+\n",
      "| 256 |       16 |            128 |     8.06258 |\n",
      "+-----+----------+----------------+-------------+\n",
      "| 256 |       32 |            142 |     8.29716 |\n",
      "+-----+----------+----------------+-------------+\n"
     ]
    }
   ],
   "source": [
    "colNames = ['m', 'blocks', 'similar_docs', 'total_exe']\n",
    "print(tabulate(small_dataset2, headers = colNames, tablefmt = \"grid\"))"
   ]
  },
  {
   "cell_type": "code",
   "execution_count": 66,
   "metadata": {},
   "outputs": [],
   "source": [
    "# File's path\n",
    "small_filePath = \"results/small_full_resources.csv\" \n",
    "\n",
    "# Reading file\n",
    "small_dataset3 = readCSV(small_filePath)"
   ]
  },
  {
   "cell_type": "code",
   "execution_count": 67,
   "metadata": {},
   "outputs": [
    {
     "name": "stdout",
     "output_type": "stream",
     "text": [
      "+-----+----------+----------------+-------------+\n",
      "|   m |   blocks |   similar_docs |   total_exe |\n",
      "+=====+==========+================+=============+\n",
      "|  64 |        4 |            137 |   305.318   |\n",
      "+-----+----------+----------------+-------------+\n",
      "|  64 |        8 |            189 |    12.5736  |\n",
      "+-----+----------+----------------+-------------+\n",
      "|  64 |       16 |            186 |     3.7835  |\n",
      "+-----+----------+----------------+-------------+\n",
      "|  64 |       32 |            105 |     3.89521 |\n",
      "+-----+----------+----------------+-------------+\n",
      "| 128 |        4 |            169 |   491.452   |\n",
      "+-----+----------+----------------+-------------+\n",
      "| 128 |        8 |            167 |    27.1291  |\n",
      "+-----+----------+----------------+-------------+\n",
      "| 128 |       16 |            111 |     5.19636 |\n",
      "+-----+----------+----------------+-------------+\n",
      "| 128 |       32 |            107 |     4.48202 |\n",
      "+-----+----------+----------------+-------------+\n",
      "| 256 |        4 |            112 |   782.649   |\n",
      "+-----+----------+----------------+-------------+\n",
      "| 256 |        8 |            109 |    72.4538  |\n",
      "+-----+----------+----------------+-------------+\n",
      "| 256 |       16 |            107 |     8.22829 |\n",
      "+-----+----------+----------------+-------------+\n",
      "| 256 |       32 |            170 |     7.63725 |\n",
      "+-----+----------+----------------+-------------+\n"
     ]
    }
   ],
   "source": [
    "colNames = ['m', 'blocks', 'similar_docs', 'total_exe']\n",
    "print(tabulate(small_dataset3, headers = colNames, tablefmt = \"grid\"))"
   ]
  },
  {
   "cell_type": "code",
   "execution_count": 68,
   "metadata": {},
   "outputs": [],
   "source": [
    "def picking_info(data1, data2, data3):\n",
    "    \n",
    "    time1 = [data1[3][3], data2[3][3], data3[3][3]]\n",
    "    print(time1)\n",
    "    time2 = [data1[7][3], data2[7][3], data3[7][3]]\n",
    "    print(time2)\n",
    "    time3 = [data1[11][3], data2[11][3], data3[11][3]]\n",
    "    print(time3)\n",
    "    return time1, time2, time3"
   ]
  },
  {
   "cell_type": "code",
   "execution_count": 69,
   "metadata": {},
   "outputs": [
    {
     "name": "stdout",
     "output_type": "stream",
     "text": [
      "[4.697275876998901, 3.646437883377075, 3.8952109813690186]\n",
      "[4.6196653842926025, 4.6323771476745605, 4.48201847076416]\n",
      "[7.6039719581604, 8.29715871810913, 7.637246608734131]\n"
     ]
    }
   ],
   "source": [
    "small_time_64, small_time_128, small_time_256 = picking_info(small_dataset1, small_dataset2, small_dataset3)"
   ]
  },
  {
   "cell_type": "code",
   "execution_count": 70,
   "metadata": {},
   "outputs": [],
   "source": [
    "def plot_execution_time(data1, data2, data3):\n",
    "    \n",
    "    core = [4, 8, 12]\n",
    "    \n",
    "    plt.plot(core, data1, marker='o', label='64 bits')\n",
    "    plt.plot(core, data2, marker='o', label='128 bits')\n",
    "    plt.plot(core, data3, marker='o', label='256 bits')\n",
    "\n",
    "    \n",
    "    plt.xlabel('Number of cores')\n",
    "    plt.ylabel('Total execution time')\n",
    "    plt.title('Trend of the execution time based on the number of cores')\n",
    "    plt.legend()\n",
    "    plt.grid(True)\n",
    "    plt.show()"
   ]
  },
  {
   "cell_type": "code",
   "execution_count": 71,
   "metadata": {},
   "outputs": [
    {
     "data": {
      "image/png": "[encoded data removed]",
      "text/plain": [
       "<Figure size 640x480 with 1 Axes>"
      ]
     },
     "metadata": {},
     "output_type": "display_data"
    }
   ],
   "source": [
    "plot_execution_time(small_time_64, small_time_128, small_time_256)"
   ]
  }
 ],
 "metadata": {
  "kernelspec": {
   "display_name": "Python 3",
   "language": "python",
   "name": "python3"
  },
  "language_info": {
   "codemirror_mode": {
    "name": "ipython",
    "version": 3
   },
   "file_extension": ".py",
   "mimetype": "text/x-python",
   "name": "python",
   "nbconvert_exporter": "python",
   "pygments_lexer": "ipython3",
   "version": "3.10.5"
  }
 },
 "nbformat": 4,
 "nbformat_minor": 2
}
